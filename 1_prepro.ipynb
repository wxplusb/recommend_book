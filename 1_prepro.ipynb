{
 "cells": [
  {
   "cell_type": "code",
   "execution_count": 1,
   "metadata": {},
   "outputs": [
    {
     "name": "stdout",
     "output_type": "stream",
     "text": [
      "INFO: Pandarallel will run on 10 workers.\n",
      "INFO: Pandarallel will use Memory file system to transfer data between the main process and workers.\n"
     ]
    }
   ],
   "source": [
    "%load_ext autoreload\n",
    "%autoreload 1\n",
    "%aimport my\n",
    "\n",
    "import sys\n",
    "import numpy as np\n",
    "import pandas as pd\n",
    "import os\n",
    "import gc\n",
    "import matplotlib.pyplot as plt\n",
    "# import seaborn as sns\n",
    "\n",
    "import my\n",
    "from my import p\n",
    "\n",
    "pd.set_option('display.max_rows', 200)\n",
    "pd.set_option(\"max_colwidth\", 45)\n",
    "pd.set_option(\"display.precision\", 1)\n",
    "pd.options.display.float_format = \"{:.3f}\".format\n",
    "# pd.set_option(\"display.max_rows\", 5)\n",
    "# pd.reset_option(\"display.max_rows\")\n",
    "\n",
    "from sklearn.model_selection import train_test_split\n",
    "from sklearn.metrics import f1_score, precision_score, recall_score\n",
    "\n",
    "from pandarallel import pandarallel\n",
    "pandarallel.initialize(progress_bar=True)\n",
    "     \n",
    " # номер или название эксперимента\n",
    "# n_exp = '1/'\n",
    "dir_out = \"out/\"\n",
    "dir_data = 'data/'\n",
    "my.dir_data = dir_data\n",
    "os.makedirs(dir_out, exist_ok = True)\n",
    "\n",
    "RANDOM_STATE = 34\n",
    "np.random.seed(RANDOM_STATE)\n",
    "N_CPU = os.cpu_count()"
   ]
  },
  {
   "cell_type": "code",
   "execution_count": 4,
   "metadata": {},
   "outputs": [
    {
     "name": "stdout",
     "output_type": "stream",
     "text": [
      "(212877, 8)\n"
     ]
    },
    {
     "data": {
      "text/html": [
       "<div>\n",
       "<style scoped>\n",
       "    .dataframe tbody tr th:only-of-type {\n",
       "        vertical-align: middle;\n",
       "    }\n",
       "\n",
       "    .dataframe tbody tr th {\n",
       "        vertical-align: top;\n",
       "    }\n",
       "\n",
       "    .dataframe thead th {\n",
       "        text-align: right;\n",
       "    }\n",
       "</style>\n",
       "<table border=\"1\" class=\"dataframe\">\n",
       "  <thead>\n",
       "    <tr style=\"text-align: right;\">\n",
       "      <th></th>\n",
       "      <th>chb</th>\n",
       "      <th>sys_numb</th>\n",
       "      <th>date_1</th>\n",
       "      <th>is_real</th>\n",
       "      <th>type</th>\n",
       "      <th>source</th>\n",
       "      <th>is_printed</th>\n",
       "      <th>time_inv_rank</th>\n",
       "    </tr>\n",
       "  </thead>\n",
       "  <tbody>\n",
       "    <tr>\n",
       "      <th>0</th>\n",
       "      <td>100000641403</td>\n",
       "      <td>RSL01004206702</td>\n",
       "      <td>2021-02-21</td>\n",
       "      <td>yes</td>\n",
       "      <td>скачивание</td>\n",
       "      <td>dlib.rsl.ru</td>\n",
       "      <td>False</td>\n",
       "      <td>2.000</td>\n",
       "    </tr>\n",
       "    <tr>\n",
       "      <th>2</th>\n",
       "      <td>100000641403</td>\n",
       "      <td>RSL01004211574</td>\n",
       "      <td>2021-02-21</td>\n",
       "      <td>yes</td>\n",
       "      <td>скачивание</td>\n",
       "      <td>dlib.rsl.ru</td>\n",
       "      <td>False</td>\n",
       "      <td>3.000</td>\n",
       "    </tr>\n",
       "    <tr>\n",
       "      <th>1</th>\n",
       "      <td>100000641403</td>\n",
       "      <td>RSL01000769304</td>\n",
       "      <td>2021-03-23</td>\n",
       "      <td>yes</td>\n",
       "      <td>скачивание</td>\n",
       "      <td>dlib.rsl.ru</td>\n",
       "      <td>False</td>\n",
       "      <td>1.000</td>\n",
       "    </tr>\n",
       "    <tr>\n",
       "      <th>13</th>\n",
       "      <td>100000644359</td>\n",
       "      <td>RSL01010594911</td>\n",
       "      <td>2021-03-09</td>\n",
       "      <td>yes</td>\n",
       "      <td>книговыдача</td>\n",
       "      <td>единый просмоторщик</td>\n",
       "      <td>False</td>\n",
       "      <td>11.000</td>\n",
       "    </tr>\n",
       "    <tr>\n",
       "      <th>4</th>\n",
       "      <td>100000644359</td>\n",
       "      <td>RSL01003557352</td>\n",
       "      <td>2021-03-10</td>\n",
       "      <td>yes</td>\n",
       "      <td>книговыдача</td>\n",
       "      <td>единый просмоторщик</td>\n",
       "      <td>False</td>\n",
       "      <td>7.000</td>\n",
       "    </tr>\n",
       "  </tbody>\n",
       "</table>\n",
       "</div>"
      ],
      "text/plain": [
       "             chb        sys_numb     date_1 is_real         type  \\\n",
       "0   100000641403  RSL01004206702 2021-02-21     yes   скачивание   \n",
       "2   100000641403  RSL01004211574 2021-02-21     yes   скачивание   \n",
       "1   100000641403  RSL01000769304 2021-03-23     yes   скачивание   \n",
       "13  100000644359  RSL01010594911 2021-03-09     yes  книговыдача   \n",
       "4   100000644359  RSL01003557352 2021-03-10     yes  книговыдача   \n",
       "\n",
       "                 source  is_printed  time_inv_rank  \n",
       "0           dlib.rsl.ru       False          2.000  \n",
       "2           dlib.rsl.ru       False          3.000  \n",
       "1           dlib.rsl.ru       False          1.000  \n",
       "13  единый просмоторщик       False         11.000  \n",
       "4   единый просмоторщик       False          7.000  "
      ]
     },
     "execution_count": 4,
     "metadata": {},
     "output_type": "execute_result"
    }
   ],
   "source": [
    "df = pd.read_csv(dir_data+'train_transactions_extended.csv',sep=';',parse_dates=['date_1'])\n",
    "df.sort_values(['chb','date_1'],inplace=True)\n",
    "df.drop_duplicates(subset=['chb','sys_numb'],keep='last',inplace=True)\n",
    "\n",
    "df['time_inv_rank'] = df.groupby('chb')['date_1'].rank(method='first',ascending=False)\n",
    "\n",
    "df = df[df['time_inv_rank']<500]\n",
    "\n",
    "p(df.shape)\n",
    "df[:5]"
   ]
  },
  {
   "cell_type": "code",
   "execution_count": 2,
   "metadata": {},
   "outputs": [
    {
     "name": "stdout",
     "output_type": "stream",
     "text": [
      "(16753, 4)\n"
     ]
    },
    {
     "data": {
      "text/html": [
       "<div>\n",
       "<style scoped>\n",
       "    .dataframe tbody tr th:only-of-type {\n",
       "        vertical-align: middle;\n",
       "    }\n",
       "\n",
       "    .dataframe tbody tr th {\n",
       "        vertical-align: top;\n",
       "    }\n",
       "\n",
       "    .dataframe thead th {\n",
       "        text-align: right;\n",
       "    }\n",
       "</style>\n",
       "<table border=\"1\" class=\"dataframe\">\n",
       "  <thead>\n",
       "    <tr style=\"text-align: right;\">\n",
       "      <th></th>\n",
       "      <th>chb</th>\n",
       "      <th>age</th>\n",
       "      <th>gender</th>\n",
       "      <th>chit_type</th>\n",
       "      <th>ff_age</th>\n",
       "      <th>ff_gender</th>\n",
       "      <th>ff_chit_type</th>\n",
       "    </tr>\n",
       "  </thead>\n",
       "  <tbody>\n",
       "    <tr>\n",
       "      <th>0</th>\n",
       "      <td>300001020830</td>\n",
       "      <td>21</td>\n",
       "      <td>f</td>\n",
       "      <td>no</td>\n",
       "      <td>f1:17</td>\n",
       "      <td>f2:f</td>\n",
       "      <td>f3:no</td>\n",
       "    </tr>\n",
       "    <tr>\n",
       "      <th>1</th>\n",
       "      <td>300001113642</td>\n",
       "      <td>36</td>\n",
       "      <td>f</td>\n",
       "      <td>no</td>\n",
       "      <td>f1:30</td>\n",
       "      <td>f2:f</td>\n",
       "      <td>f3:no</td>\n",
       "    </tr>\n",
       "    <tr>\n",
       "      <th>2</th>\n",
       "      <td>300001148466</td>\n",
       "      <td>46</td>\n",
       "      <td>f</td>\n",
       "      <td>no</td>\n",
       "      <td>f1:40</td>\n",
       "      <td>f2:f</td>\n",
       "      <td>f3:no</td>\n",
       "    </tr>\n",
       "  </tbody>\n",
       "</table>\n",
       "</div>"
      ],
      "text/plain": [
       "            chb  age gender chit_type ff_age ff_gender ff_chit_type\n",
       "0  300001020830   21      f        no  f1:17      f2:f        f3:no\n",
       "1  300001113642   36      f        no  f1:30      f2:f        f3:no\n",
       "2  300001148466   46      f        no  f1:40      f2:f        f3:no"
      ]
     },
     "execution_count": 2,
     "metadata": {},
     "output_type": "execute_result"
    }
   ],
   "source": [
    "us = pd.read_csv(dir_data+'users.csv',sep=';')\n",
    "p(us.shape)\n",
    "us = my.prepro_users(us)\n",
    "us[:3]"
   ]
  },
  {
   "cell_type": "code",
   "execution_count": 7,
   "metadata": {},
   "outputs": [
    {
     "name": "stdout",
     "output_type": "stream",
     "text": [
      "(354355, 5)\n"
     ]
    },
    {
     "data": {
      "text/html": [
       "<div>\n",
       "<style scoped>\n",
       "    .dataframe tbody tr th:only-of-type {\n",
       "        vertical-align: middle;\n",
       "    }\n",
       "\n",
       "    .dataframe tbody tr th {\n",
       "        vertical-align: top;\n",
       "    }\n",
       "\n",
       "    .dataframe thead th {\n",
       "        text-align: right;\n",
       "    }\n",
       "</style>\n",
       "<table border=\"1\" class=\"dataframe\">\n",
       "  <thead>\n",
       "    <tr style=\"text-align: right;\">\n",
       "      <th></th>\n",
       "      <th>sys_numb</th>\n",
       "      <th>title</th>\n",
       "      <th>author</th>\n",
       "      <th>izd</th>\n",
       "      <th>year_izd</th>\n",
       "    </tr>\n",
       "  </thead>\n",
       "  <tbody>\n",
       "    <tr>\n",
       "      <th>0</th>\n",
       "      <td>RSL01008600016</td>\n",
       "      <td>Судебное следствие в уголовном процессе Р...</td>\n",
       "      <td>Машовец, Асия Океановна</td>\n",
       "      <td>Юрлитинформ</td>\n",
       "      <td>2016</td>\n",
       "    </tr>\n",
       "    <tr>\n",
       "      <th>1</th>\n",
       "      <td>RSL01004304880</td>\n",
       "      <td>Уральское казачество и его роль в системе...</td>\n",
       "      <td>Дубовиков, Александр Маратович</td>\n",
       "      <td>none</td>\n",
       "      <td>2006</td>\n",
       "    </tr>\n",
       "    <tr>\n",
       "      <th>2</th>\n",
       "      <td>RSL07000461043</td>\n",
       "      <td>отсутствует</td>\n",
       "      <td>отсутствует</td>\n",
       "      <td>отсутствует</td>\n",
       "      <td>отсутствует</td>\n",
       "    </tr>\n",
       "  </tbody>\n",
       "</table>\n",
       "</div>"
      ],
      "text/plain": [
       "         sys_numb                                         title  \\\n",
       "0  RSL01008600016  Судебное следствие в уголовном процессе Р...   \n",
       "1  RSL01004304880  Уральское казачество и его роль в системе...   \n",
       "2  RSL07000461043                                   отсутствует   \n",
       "\n",
       "                           author          izd     year_izd  \n",
       "0         Машовец, Асия Океановна  Юрлитинформ         2016  \n",
       "1  Дубовиков, Александр Маратович         none         2006  \n",
       "2                     отсутствует  отсутствует  отсутствует  "
      ]
     },
     "execution_count": 7,
     "metadata": {},
     "output_type": "execute_result"
    }
   ],
   "source": [
    "it = pd.read_csv(dir_data+'items.csv',sep=';').drop(columns='bbk')\n",
    "p(it.shape)\n",
    "it[:3]"
   ]
  },
  {
   "cell_type": "code",
   "execution_count": null,
   "metadata": {},
   "outputs": [],
   "source": [
    "it = my.prerpo_items(it)\n",
    "it.to_parquet(dir_data+'it.pq',index=False)"
   ]
  },
  {
   "cell_type": "code",
   "execution_count": 10,
   "metadata": {},
   "outputs": [
    {
     "name": "stdout",
     "output_type": "stream",
     "text": [
      "(354355, 8)\n",
      " ~\n",
      "163596 | 32321\n"
     ]
    }
   ],
   "source": [
    "p(it.shape, it['author'].nunique(),it['izd'].nunique())"
   ]
  },
  {
   "cell_type": "code",
   "execution_count": null,
   "metadata": {},
   "outputs": [],
   "source": [
    "it = pd.read_parquet(dir_data+'it.pq')\n",
    "it[:3]"
   ]
  },
  {
   "cell_type": "code",
   "execution_count": 11,
   "metadata": {},
   "outputs": [
    {
     "name": "stdout",
     "output_type": "stream",
     "text": [
      "(26679,)\n"
     ]
    },
    {
     "data": {
      "text/plain": [
       "2    RSL07000461043\n",
       "3    RSL07000433335\n",
       "Name: sys_numb, dtype: object"
      ]
     },
     "execution_count": 11,
     "metadata": {},
     "output_type": "execute_result"
    }
   ],
   "source": [
    "it_without_data = it.loc[(it['clean_lemma_title']=='notitle') & (it['author']=='ноавт'),'sys_numb']\n",
    "p(it_without_data.shape)\n",
    "it_without_data[:2]"
   ]
  },
  {
   "cell_type": "code",
   "execution_count": 12,
   "metadata": {},
   "outputs": [
    {
     "data": {
      "text/plain": [
       "(13043,)"
      ]
     },
     "execution_count": 12,
     "metadata": {},
     "output_type": "execute_result"
    }
   ],
   "source": [
    "it_without_data_not_in_df = it_without_data[~it_without_data.isin(df['sys_numb'])]\n",
    "it_without_data_not_in_df.shape"
   ]
  },
  {
   "cell_type": "code",
   "execution_count": 13,
   "metadata": {},
   "outputs": [
    {
     "data": {
      "text/plain": [
       "(341312, 8)"
      ]
     },
     "execution_count": 13,
     "metadata": {},
     "output_type": "execute_result"
    }
   ],
   "source": [
    "it = it[~it['sys_numb'].isin(it_without_data_not_in_df)]\n",
    "it.shape"
   ]
  },
  {
   "cell_type": "code",
   "execution_count": 14,
   "metadata": {},
   "outputs": [
    {
     "name": "stdout",
     "output_type": "stream",
     "text": [
      "(212877, 15)\n"
     ]
    },
    {
     "data": {
      "text/html": [
       "<div>\n",
       "<style scoped>\n",
       "    .dataframe tbody tr th:only-of-type {\n",
       "        vertical-align: middle;\n",
       "    }\n",
       "\n",
       "    .dataframe tbody tr th {\n",
       "        vertical-align: top;\n",
       "    }\n",
       "\n",
       "    .dataframe thead th {\n",
       "        text-align: right;\n",
       "    }\n",
       "</style>\n",
       "<table border=\"1\" class=\"dataframe\">\n",
       "  <thead>\n",
       "    <tr style=\"text-align: right;\">\n",
       "      <th></th>\n",
       "      <th>chb</th>\n",
       "      <th>sys_numb</th>\n",
       "      <th>title</th>\n",
       "      <th>author</th>\n",
       "      <th>izd</th>\n",
       "      <th>year_izd</th>\n",
       "      <th>ff_year_izd</th>\n",
       "      <th>clean_lemma_title</th>\n",
       "      <th>clean_no_lemma_title</th>\n",
       "      <th>age</th>\n",
       "      <th>gender</th>\n",
       "      <th>chit_type</th>\n",
       "      <th>ff_age</th>\n",
       "      <th>ff_gender</th>\n",
       "      <th>ff_chit_type</th>\n",
       "    </tr>\n",
       "  </thead>\n",
       "  <tbody>\n",
       "    <tr>\n",
       "      <th>2</th>\n",
       "      <td>100000641403</td>\n",
       "      <td>RSL01000769304</td>\n",
       "      <td>Медицинская, научная и общественная деяте...</td>\n",
       "      <td>шалаев николай федорович</td>\n",
       "      <td>ноизд</td>\n",
       "      <td>1993</td>\n",
       "      <td>f1:1970</td>\n",
       "      <td>медицинский научный общественный деятельн...</td>\n",
       "      <td>медицинская научная и общественная деятел...</td>\n",
       "      <td>55</td>\n",
       "      <td>m</td>\n",
       "      <td>no</td>\n",
       "      <td>f1:40</td>\n",
       "      <td>f2:m</td>\n",
       "      <td>f3:no</td>\n",
       "    </tr>\n",
       "    <tr>\n",
       "      <th>0</th>\n",
       "      <td>100000641403</td>\n",
       "      <td>RSL01004206702</td>\n",
       "      <td>Придание огнестойкости деревянным построй...</td>\n",
       "      <td>максимов владимир лаврович</td>\n",
       "      <td>гл упр землеустройства и земледелия</td>\n",
       "      <td>1915</td>\n",
       "      <td>f1:1900</td>\n",
       "      <td>придание огнестойкость деревянный постройка</td>\n",
       "      <td>придание огнестойкости деревянным постройкам</td>\n",
       "      <td>55</td>\n",
       "      <td>m</td>\n",
       "      <td>no</td>\n",
       "      <td>f1:40</td>\n",
       "      <td>f2:m</td>\n",
       "      <td>f3:no</td>\n",
       "    </tr>\n",
       "  </tbody>\n",
       "</table>\n",
       "</div>"
      ],
      "text/plain": [
       "            chb        sys_numb                                         title  \\\n",
       "2  100000641403  RSL01000769304  Медицинская, научная и общественная деяте...   \n",
       "0  100000641403  RSL01004206702  Придание огнестойкости деревянным построй...   \n",
       "\n",
       "                       author                                  izd  year_izd  \\\n",
       "2    шалаев николай федорович                                ноизд      1993   \n",
       "0  максимов владимир лаврович  гл упр землеустройства и земледелия      1915   \n",
       "\n",
       "  ff_year_izd                             clean_lemma_title  \\\n",
       "2     f1:1970  медицинский научный общественный деятельн...   \n",
       "0     f1:1900   придание огнестойкость деревянный постройка   \n",
       "\n",
       "                           clean_no_lemma_title  age gender chit_type ff_age  \\\n",
       "2  медицинская научная и общественная деятел...   55      m        no  f1:40   \n",
       "0  придание огнестойкости деревянным постройкам   55      m        no  f1:40   \n",
       "\n",
       "  ff_gender ff_chit_type  \n",
       "2      f2:m        f3:no  \n",
       "0      f2:m        f3:no  "
      ]
     },
     "execution_count": 14,
     "metadata": {},
     "output_type": "execute_result"
    }
   ],
   "source": [
    "merge_df = df[['chb','sys_numb']].merge(it,left_on='sys_numb',right_on='sys_numb').merge(us,left_on='chb',right_on='chb').sort_values(['chb','sys_numb'])\n",
    "p(merge_df.shape)\n",
    "merge_df[:2]"
   ]
  },
  {
   "cell_type": "code",
   "execution_count": 15,
   "metadata": {},
   "outputs": [
    {
     "name": "stdout",
     "output_type": "stream",
     "text": [
      "Index(['ноавт', 'конволют', 'россия законы и постановления',\n",
      "       'струнников сергей николаевич', 'пушкин александр сергеевич'],\n",
      "      dtype='object')\n",
      "f2:av6\n",
      "Index(['ноизд', 'наука', 'б и', 'эксмо', 'юрлитинформ'], dtype='object')\n",
      "f3:izd4\n"
     ]
    },
    {
     "data": {
      "text/html": [
       "<div>\n",
       "<style scoped>\n",
       "    .dataframe tbody tr th:only-of-type {\n",
       "        vertical-align: middle;\n",
       "    }\n",
       "\n",
       "    .dataframe tbody tr th {\n",
       "        vertical-align: top;\n",
       "    }\n",
       "\n",
       "    .dataframe thead th {\n",
       "        text-align: right;\n",
       "    }\n",
       "</style>\n",
       "<table border=\"1\" class=\"dataframe\">\n",
       "  <thead>\n",
       "    <tr style=\"text-align: right;\">\n",
       "      <th></th>\n",
       "      <th>sys_numb</th>\n",
       "      <th>title</th>\n",
       "      <th>author</th>\n",
       "      <th>izd</th>\n",
       "      <th>year_izd</th>\n",
       "      <th>ff_year_izd</th>\n",
       "      <th>clean_lemma_title</th>\n",
       "      <th>clean_no_lemma_title</th>\n",
       "      <th>ff_author</th>\n",
       "      <th>ff_izd</th>\n",
       "    </tr>\n",
       "  </thead>\n",
       "  <tbody>\n",
       "    <tr>\n",
       "      <th>0</th>\n",
       "      <td>RSL01008600016</td>\n",
       "      <td>Судебное следствие в уголовном процессе Р...</td>\n",
       "      <td>машовец асия океановна</td>\n",
       "      <td>юрлитинформ</td>\n",
       "      <td>2016</td>\n",
       "      <td>f1:2015</td>\n",
       "      <td>судебный следствие уголовный процесс росс...</td>\n",
       "      <td>судебное следствие в уголовном процессе р...</td>\n",
       "      <td>f2:av_</td>\n",
       "      <td>f3:izd4</td>\n",
       "    </tr>\n",
       "    <tr>\n",
       "      <th>1</th>\n",
       "      <td>RSL01004304880</td>\n",
       "      <td>Уральское казачество и его роль в системе...</td>\n",
       "      <td>дубовиков александр маратович</td>\n",
       "      <td>ноизд</td>\n",
       "      <td>2006</td>\n",
       "      <td>f1:2005</td>\n",
       "      <td>уральский казачество его роль система рос...</td>\n",
       "      <td>уральское казачество и его роль в системе...</td>\n",
       "      <td>f2:av_</td>\n",
       "      <td>f3:izd0</td>\n",
       "    </tr>\n",
       "    <tr>\n",
       "      <th>2</th>\n",
       "      <td>RSL07000461043</td>\n",
       "      <td>notitle</td>\n",
       "      <td>ноавт</td>\n",
       "      <td>ноизд</td>\n",
       "      <td>2025</td>\n",
       "      <td>f1:2015</td>\n",
       "      <td>notitle</td>\n",
       "      <td>notitle</td>\n",
       "      <td>f2:av0</td>\n",
       "      <td>f3:izd0</td>\n",
       "    </tr>\n",
       "  </tbody>\n",
       "</table>\n",
       "</div>"
      ],
      "text/plain": [
       "         sys_numb                                         title  \\\n",
       "0  RSL01008600016  Судебное следствие в уголовном процессе Р...   \n",
       "1  RSL01004304880  Уральское казачество и его роль в системе...   \n",
       "2  RSL07000461043                                       notitle   \n",
       "\n",
       "                          author          izd  year_izd ff_year_izd  \\\n",
       "0         машовец асия океановна  юрлитинформ      2016     f1:2015   \n",
       "1  дубовиков александр маратович        ноизд      2006     f1:2005   \n",
       "2                          ноавт        ноизд      2025     f1:2015   \n",
       "\n",
       "                              clean_lemma_title  \\\n",
       "0  судебный следствие уголовный процесс росс...   \n",
       "1  уральский казачество его роль система рос...   \n",
       "2                                       notitle   \n",
       "\n",
       "                           clean_no_lemma_title ff_author   ff_izd  \n",
       "0  судебное следствие в уголовном процессе р...    f2:av_  f3:izd4  \n",
       "1  уральское казачество и его роль в системе...    f2:av_  f3:izd0  \n",
       "2                                       notitle    f2:av0  f3:izd0  "
      ]
     },
     "execution_count": 15,
     "metadata": {},
     "output_type": "execute_result"
    }
   ],
   "source": [
    "q = merge_df['author'].value_counts()\n",
    "avs = q.index[:200]\n",
    "p(avs[:5])\n",
    "av_map = {a:f'f2:av{i}' for i,a in enumerate(avs)}\n",
    "p(av_map['юнг карл густав'])\n",
    "\n",
    "q = merge_df['izd'].value_counts()\n",
    "izds = q.index[:200]\n",
    "p(izds[:5])\n",
    "izds_map = {a:f'f3:izd{i}' for i,a in enumerate(izds)}\n",
    "p(izds_map['юрлитинформ'])\n",
    "\n",
    "it['ff_author'] = it['author'].map(av_map).fillna('f2:av_')\n",
    "it['ff_izd'] = it['izd'].map(izds_map).fillna('f2:izd_')\n",
    "it[:3]"
   ]
  },
  {
   "cell_type": "code",
   "execution_count": 16,
   "metadata": {},
   "outputs": [
    {
     "name": "stderr",
     "output_type": "stream",
     "text": [
      "Warning : `load_model` does not return WordVectorModel or SupervisedModel any more, but a `FastText` object which is very similar.\n"
     ]
    }
   ],
   "source": [
    "import fasttext as ft\n",
    "ft_model = ft.load_model(dir_data+\"lid.176.bin\")\n",
    "\n",
    "def lang(x):\n",
    "    if x == 'notitle':\n",
    "        return 'no'\n",
    "    if (\"а\" <= x[0] <= \"я\") or (\"а\" <= x[-1] <= \"я\"):\n",
    "        return 'ru'\n",
    "    else:\n",
    "        for word in x.split():\n",
    "            if (\"а\" <= word[0] <= \"я\"):\n",
    "                return 'ru'\n",
    "\n",
    "    return ft_model.predict(x)[0][0][9:]"
   ]
  },
  {
   "cell_type": "code",
   "execution_count": 17,
   "metadata": {},
   "outputs": [
    {
     "data": {
      "text/plain": [
       "ru    325880\n",
       "no     13688\n",
       "en      1083\n",
       "de       376\n",
       "fr       178\n",
       "it        34\n",
       "la        33\n",
       "es        19\n",
       "pl        14\n",
       "sv         7\n",
       "Name: lang, dtype: int64"
      ]
     },
     "execution_count": 17,
     "metadata": {},
     "output_type": "execute_result"
    }
   ],
   "source": [
    "it['lang'] = it['clean_lemma_title'].apply(lang)\n",
    "it.loc[~it['lang'].isin(['ru','no','en','de','fr','it','la','es','pl','sv']),'lang'] = 'no'\n",
    "it['lang'].value_counts()"
   ]
  },
  {
   "cell_type": "code",
   "execution_count": 19,
   "metadata": {},
   "outputs": [
    {
     "data": {
      "text/plain": [
       "<AxesSubplot:>"
      ]
     },
     "execution_count": 19,
     "metadata": {},
     "output_type": "execute_result"
    },
    {
     "data": {
      "image/png": "[encoded data removed]",
      "text/plain": [
       "<Figure size 432x288 with 1 Axes>"
      ]
     },
     "metadata": {
      "needs_background": "light"
     },
     "output_type": "display_data"
    }
   ],
   "source": [
    "it['clean_lemma_title'].str.split().str.len().hist(bins=25)"
   ]
  },
  {
   "cell_type": "markdown",
   "metadata": {},
   "source": [
    "it to csv"
   ]
  },
  {
   "cell_type": "code",
   "execution_count": 65,
   "metadata": {},
   "outputs": [
    {
     "data": {
      "text/html": [
       "<div>\n",
       "<style scoped>\n",
       "    .dataframe tbody tr th:only-of-type {\n",
       "        vertical-align: middle;\n",
       "    }\n",
       "\n",
       "    .dataframe tbody tr th {\n",
       "        vertical-align: top;\n",
       "    }\n",
       "\n",
       "    .dataframe thead th {\n",
       "        text-align: right;\n",
       "    }\n",
       "</style>\n",
       "<table border=\"1\" class=\"dataframe\">\n",
       "  <thead>\n",
       "    <tr style=\"text-align: right;\">\n",
       "      <th></th>\n",
       "      <th>item_id:token</th>\n",
       "      <th>ff_year_izd:token</th>\n",
       "      <th>ff_author:token</th>\n",
       "      <th>ff_izd:token</th>\n",
       "      <th>lang:token</th>\n",
       "      <th>clean_lemma_title:token_seq</th>\n",
       "    </tr>\n",
       "  </thead>\n",
       "  <tbody>\n",
       "    <tr>\n",
       "      <th>0</th>\n",
       "      <td>RSL01008600016</td>\n",
       "      <td>f1:2015</td>\n",
       "      <td>f2:av_</td>\n",
       "      <td>f3:izd4</td>\n",
       "      <td>ru</td>\n",
       "      <td>судебный следствие уголовный процесс росс...</td>\n",
       "    </tr>\n",
       "    <tr>\n",
       "      <th>1</th>\n",
       "      <td>RSL01004304880</td>\n",
       "      <td>f1:2005</td>\n",
       "      <td>f2:av_</td>\n",
       "      <td>f3:izd0</td>\n",
       "      <td>ru</td>\n",
       "      <td>уральский казачество его роль система рос...</td>\n",
       "    </tr>\n",
       "  </tbody>\n",
       "</table>\n",
       "</div>"
      ],
      "text/plain": [
       "    item_id:token ff_year_izd:token ff_author:token ff_izd:token lang:token  \\\n",
       "0  RSL01008600016           f1:2015          f2:av_      f3:izd4         ru   \n",
       "1  RSL01004304880           f1:2005          f2:av_      f3:izd0         ru   \n",
       "\n",
       "                    clean_lemma_title:token_seq  \n",
       "0  судебный следствие уголовный процесс росс...  \n",
       "1  уральский казачество его роль система рос...  "
      ]
     },
     "execution_count": 65,
     "metadata": {},
     "output_type": "execute_result"
    }
   ],
   "source": [
    "q = it[['sys_numb','ff_year_izd','ff_author','ff_izd','lang','clean_lemma_title']]\n",
    "q.columns = ['item_id:token','ff_year_izd:token','ff_author:token','ff_izd:token','lang:token','clean_lemma_title:token_seq']\n",
    "q.to_csv(dir_data+'bib.item', index=False, sep='\\t')\n",
    "q[:2]"
   ]
  },
  {
   "cell_type": "markdown",
   "metadata": {},
   "source": [
    "us to csv"
   ]
  },
  {
   "cell_type": "code",
   "execution_count": 23,
   "metadata": {},
   "outputs": [
    {
     "data": {
      "text/html": [
       "<div>\n",
       "<style scoped>\n",
       "    .dataframe tbody tr th:only-of-type {\n",
       "        vertical-align: middle;\n",
       "    }\n",
       "\n",
       "    .dataframe tbody tr th {\n",
       "        vertical-align: top;\n",
       "    }\n",
       "\n",
       "    .dataframe thead th {\n",
       "        text-align: right;\n",
       "    }\n",
       "</style>\n",
       "<table border=\"1\" class=\"dataframe\">\n",
       "  <thead>\n",
       "    <tr style=\"text-align: right;\">\n",
       "      <th></th>\n",
       "      <th>chb</th>\n",
       "      <th>sys_numb</th>\n",
       "      <th>title</th>\n",
       "      <th>author</th>\n",
       "      <th>izd</th>\n",
       "      <th>year_izd</th>\n",
       "      <th>ff_year_izd</th>\n",
       "      <th>clean_lemma_title</th>\n",
       "      <th>clean_no_lemma_title</th>\n",
       "      <th>age</th>\n",
       "      <th>gender</th>\n",
       "      <th>chit_type</th>\n",
       "      <th>ff_age</th>\n",
       "      <th>ff_gender</th>\n",
       "      <th>ff_chit_type</th>\n",
       "    </tr>\n",
       "  </thead>\n",
       "  <tbody>\n",
       "    <tr>\n",
       "      <th>2</th>\n",
       "      <td>100000641403</td>\n",
       "      <td>RSL01000769304</td>\n",
       "      <td>Медицинская, научная и общественная деяте...</td>\n",
       "      <td>шалаев николай федорович</td>\n",
       "      <td>ноизд</td>\n",
       "      <td>1993</td>\n",
       "      <td>f1:1970</td>\n",
       "      <td>медицинский научный общественный деятельн...</td>\n",
       "      <td>медицинская научная и общественная деятел...</td>\n",
       "      <td>55</td>\n",
       "      <td>m</td>\n",
       "      <td>no</td>\n",
       "      <td>f1:40</td>\n",
       "      <td>f2:m</td>\n",
       "      <td>f3:no</td>\n",
       "    </tr>\n",
       "    <tr>\n",
       "      <th>0</th>\n",
       "      <td>100000641403</td>\n",
       "      <td>RSL01004206702</td>\n",
       "      <td>Придание огнестойкости деревянным построй...</td>\n",
       "      <td>максимов владимир лаврович</td>\n",
       "      <td>гл упр землеустройства и земледелия</td>\n",
       "      <td>1915</td>\n",
       "      <td>f1:1900</td>\n",
       "      <td>придание огнестойкость деревянный постройка</td>\n",
       "      <td>придание огнестойкости деревянным постройкам</td>\n",
       "      <td>55</td>\n",
       "      <td>m</td>\n",
       "      <td>no</td>\n",
       "      <td>f1:40</td>\n",
       "      <td>f2:m</td>\n",
       "      <td>f3:no</td>\n",
       "    </tr>\n",
       "  </tbody>\n",
       "</table>\n",
       "</div>"
      ],
      "text/plain": [
       "            chb        sys_numb                                         title  \\\n",
       "2  100000641403  RSL01000769304  Медицинская, научная и общественная деяте...   \n",
       "0  100000641403  RSL01004206702  Придание огнестойкости деревянным построй...   \n",
       "\n",
       "                       author                                  izd  year_izd  \\\n",
       "2    шалаев николай федорович                                ноизд      1993   \n",
       "0  максимов владимир лаврович  гл упр землеустройства и земледелия      1915   \n",
       "\n",
       "  ff_year_izd                             clean_lemma_title  \\\n",
       "2     f1:1970  медицинский научный общественный деятельн...   \n",
       "0     f1:1900   придание огнестойкость деревянный постройка   \n",
       "\n",
       "                           clean_no_lemma_title  age gender chit_type ff_age  \\\n",
       "2  медицинская научная и общественная деятел...   55      m        no  f1:40   \n",
       "0  придание огнестойкости деревянным постройкам   55      m        no  f1:40   \n",
       "\n",
       "  ff_gender ff_chit_type  \n",
       "2      f2:m        f3:no  \n",
       "0      f2:m        f3:no  "
      ]
     },
     "execution_count": 23,
     "metadata": {},
     "output_type": "execute_result"
    }
   ],
   "source": [
    "merge_df[:2]"
   ]
  },
  {
   "cell_type": "code",
   "execution_count": 31,
   "metadata": {},
   "outputs": [
    {
     "data": {
      "text/plain": [
       "<AxesSubplot:>"
      ]
     },
     "execution_count": 31,
     "metadata": {},
     "output_type": "execute_result"
    },
    {
     "data": {
      "image/png": "[encoded data removed]",
      "text/plain": [
       "<Figure size 432x288 with 1 Axes>"
      ]
     },
     "metadata": {
      "needs_background": "light"
     },
     "output_type": "display_data"
    }
   ],
   "source": [
    "merge_df.groupby('chb')['sys_numb'].nunique().hist(bins=50)"
   ]
  },
  {
   "cell_type": "code",
   "execution_count": 41,
   "metadata": {},
   "outputs": [
    {
     "data": {
      "text/plain": [
       "<AxesSubplot:>"
      ]
     },
     "execution_count": 41,
     "metadata": {},
     "output_type": "execute_result"
    },
    {
     "data": {
      "image/png": "[encoded data removed]",
      "text/plain": [
       "<Figure size 432x288 with 1 Axes>"
      ]
     },
     "metadata": {
      "needs_background": "light"
     },
     "output_type": "display_data"
    }
   ],
   "source": [
    "user_count = merge_df.groupby('chb')['sys_numb'].nunique()\n",
    "user_count.loc[user_count>50] = 50\n",
    "user_count.hist(bins=50)"
   ]
  },
  {
   "cell_type": "code",
   "execution_count": 52,
   "metadata": {},
   "outputs": [
    {
     "data": {
      "text/plain": [
       "0        300001020830\n",
       "1        300001113642\n",
       "2        300001148466\n",
       "3        300001117011\n",
       "4        200001038094\n",
       "             ...     \n",
       "16748    300001154270\n",
       "16749    200000851690\n",
       "16750    200001154993\n",
       "16751    200001155169\n",
       "16752    300001155049\n",
       "Name: chb, Length: 16753, dtype: int64"
      ]
     },
     "execution_count": 52,
     "metadata": {},
     "output_type": "execute_result"
    }
   ],
   "source": [
    "us['chb']"
   ]
  },
  {
   "cell_type": "code",
   "execution_count": 60,
   "metadata": {},
   "outputs": [
    {
     "data": {
      "text/html": [
       "<div>\n",
       "<style scoped>\n",
       "    .dataframe tbody tr th:only-of-type {\n",
       "        vertical-align: middle;\n",
       "    }\n",
       "\n",
       "    .dataframe tbody tr th {\n",
       "        vertical-align: top;\n",
       "    }\n",
       "\n",
       "    .dataframe thead th {\n",
       "        text-align: right;\n",
       "    }\n",
       "</style>\n",
       "<table border=\"1\" class=\"dataframe\">\n",
       "  <thead>\n",
       "    <tr style=\"text-align: right;\">\n",
       "      <th></th>\n",
       "      <th>read_counts</th>\n",
       "    </tr>\n",
       "  </thead>\n",
       "  <tbody>\n",
       "    <tr>\n",
       "      <th>0</th>\n",
       "      <td>20</td>\n",
       "    </tr>\n",
       "    <tr>\n",
       "      <th>1</th>\n",
       "      <td>20</td>\n",
       "    </tr>\n",
       "    <tr>\n",
       "      <th>2</th>\n",
       "      <td>20</td>\n",
       "    </tr>\n",
       "    <tr>\n",
       "      <th>3</th>\n",
       "      <td>3</td>\n",
       "    </tr>\n",
       "    <tr>\n",
       "      <th>4</th>\n",
       "      <td>7</td>\n",
       "    </tr>\n",
       "    <tr>\n",
       "      <th>...</th>\n",
       "      <td>...</td>\n",
       "    </tr>\n",
       "    <tr>\n",
       "      <th>16748</th>\n",
       "      <td>3</td>\n",
       "    </tr>\n",
       "    <tr>\n",
       "      <th>16749</th>\n",
       "      <td>3</td>\n",
       "    </tr>\n",
       "    <tr>\n",
       "      <th>16750</th>\n",
       "      <td>3</td>\n",
       "    </tr>\n",
       "    <tr>\n",
       "      <th>16751</th>\n",
       "      <td>3</td>\n",
       "    </tr>\n",
       "    <tr>\n",
       "      <th>16752</th>\n",
       "      <td>3</td>\n",
       "    </tr>\n",
       "  </tbody>\n",
       "</table>\n",
       "<p>16753 rows × 1 columns</p>\n",
       "</div>"
      ],
      "text/plain": [
       "      read_counts\n",
       "0              20\n",
       "1              20\n",
       "2              20\n",
       "3               3\n",
       "4               7\n",
       "...           ...\n",
       "16748           3\n",
       "16749           3\n",
       "16750           3\n",
       "16751           3\n",
       "16752           3\n",
       "\n",
       "[16753 rows x 1 columns]"
      ]
     },
     "execution_count": 60,
     "metadata": {},
     "output_type": "execute_result"
    }
   ],
   "source": [
    "user_count = merge_df.groupby('chb')['sys_numb'].nunique()\n",
    "def count_book(x):\n",
    "        if x > 50:\n",
    "            return '50'\n",
    "        elif x > 20:\n",
    "            return '20'\n",
    "        elif x > 7:\n",
    "            return '7'\n",
    "        else:\n",
    "            return '3'\n",
    "user_count = user_count.apply(count_book).to_frame()\n",
    "user_count.columns = ['read_counts']\n",
    "user_count = user_count.reindex(us['chb']).reset_index(drop=True)\n",
    "user_count"
   ]
  },
  {
   "cell_type": "code",
   "execution_count": 62,
   "metadata": {},
   "outputs": [
    {
     "data": {
      "text/html": [
       "<div>\n",
       "<style scoped>\n",
       "    .dataframe tbody tr th:only-of-type {\n",
       "        vertical-align: middle;\n",
       "    }\n",
       "\n",
       "    .dataframe tbody tr th {\n",
       "        vertical-align: top;\n",
       "    }\n",
       "\n",
       "    .dataframe thead th {\n",
       "        text-align: right;\n",
       "    }\n",
       "</style>\n",
       "<table border=\"1\" class=\"dataframe\">\n",
       "  <thead>\n",
       "    <tr style=\"text-align: right;\">\n",
       "      <th></th>\n",
       "      <th>chb</th>\n",
       "      <th>age</th>\n",
       "      <th>gender</th>\n",
       "      <th>chit_type</th>\n",
       "      <th>ff_age</th>\n",
       "      <th>ff_gender</th>\n",
       "      <th>ff_chit_type</th>\n",
       "      <th>read_counts</th>\n",
       "      <th>ff_read_counts</th>\n",
       "    </tr>\n",
       "  </thead>\n",
       "  <tbody>\n",
       "    <tr>\n",
       "      <th>0</th>\n",
       "      <td>300001020830</td>\n",
       "      <td>21</td>\n",
       "      <td>f</td>\n",
       "      <td>no</td>\n",
       "      <td>f1:17</td>\n",
       "      <td>f2:f</td>\n",
       "      <td>f3:no</td>\n",
       "      <td>20</td>\n",
       "      <td>20</td>\n",
       "    </tr>\n",
       "    <tr>\n",
       "      <th>1</th>\n",
       "      <td>300001113642</td>\n",
       "      <td>36</td>\n",
       "      <td>f</td>\n",
       "      <td>no</td>\n",
       "      <td>f1:30</td>\n",
       "      <td>f2:f</td>\n",
       "      <td>f3:no</td>\n",
       "      <td>20</td>\n",
       "      <td>20</td>\n",
       "    </tr>\n",
       "  </tbody>\n",
       "</table>\n",
       "</div>"
      ],
      "text/plain": [
       "            chb  age gender chit_type ff_age ff_gender ff_chit_type  \\\n",
       "0  300001020830   21      f        no  f1:17      f2:f        f3:no   \n",
       "1  300001113642   36      f        no  f1:30      f2:f        f3:no   \n",
       "\n",
       "  read_counts ff_read_counts  \n",
       "0          20             20  \n",
       "1          20             20  "
      ]
     },
     "execution_count": 62,
     "metadata": {},
     "output_type": "execute_result"
    }
   ],
   "source": [
    "us['ff_read_counts'] = user_count['read_counts']\n",
    "us[:2]"
   ]
  },
  {
   "cell_type": "code",
   "execution_count": 64,
   "metadata": {},
   "outputs": [
    {
     "data": {
      "text/html": [
       "<div>\n",
       "<style scoped>\n",
       "    .dataframe tbody tr th:only-of-type {\n",
       "        vertical-align: middle;\n",
       "    }\n",
       "\n",
       "    .dataframe tbody tr th {\n",
       "        vertical-align: top;\n",
       "    }\n",
       "\n",
       "    .dataframe thead th {\n",
       "        text-align: right;\n",
       "    }\n",
       "</style>\n",
       "<table border=\"1\" class=\"dataframe\">\n",
       "  <thead>\n",
       "    <tr style=\"text-align: right;\">\n",
       "      <th></th>\n",
       "      <th>user_id:token</th>\n",
       "      <th>ff_age:token</th>\n",
       "      <th>ff_gender:token</th>\n",
       "      <th>ff_chit_type:token</th>\n",
       "      <th>ff_read_counts:token</th>\n",
       "    </tr>\n",
       "  </thead>\n",
       "  <tbody>\n",
       "    <tr>\n",
       "      <th>0</th>\n",
       "      <td>300001020830</td>\n",
       "      <td>f1:17</td>\n",
       "      <td>f2:f</td>\n",
       "      <td>f3:no</td>\n",
       "      <td>20</td>\n",
       "    </tr>\n",
       "    <tr>\n",
       "      <th>1</th>\n",
       "      <td>300001113642</td>\n",
       "      <td>f1:30</td>\n",
       "      <td>f2:f</td>\n",
       "      <td>f3:no</td>\n",
       "      <td>20</td>\n",
       "    </tr>\n",
       "  </tbody>\n",
       "</table>\n",
       "</div>"
      ],
      "text/plain": [
       "   user_id:token ff_age:token ff_gender:token ff_chit_type:token  \\\n",
       "0   300001020830        f1:17            f2:f              f3:no   \n",
       "1   300001113642        f1:30            f2:f              f3:no   \n",
       "\n",
       "  ff_read_counts:token  \n",
       "0                   20  \n",
       "1                   20  "
      ]
     },
     "execution_count": 64,
     "metadata": {},
     "output_type": "execute_result"
    }
   ],
   "source": [
    "q = us[['chb','ff_age','ff_gender','ff_chit_type','ff_read_counts']]\n",
    "q.columns = ['user_id:token','ff_age:token','ff_gender:token','ff_chit_type:token','ff_read_counts:token']\n",
    "q.to_csv(dir_data+'bib.user', index=False, sep='\\t')\n",
    "q[:2]"
   ]
  },
  {
   "cell_type": "markdown",
   "metadata": {},
   "source": [
    "df to csv"
   ]
  },
  {
   "cell_type": "code",
   "execution_count": 66,
   "metadata": {},
   "outputs": [
    {
     "data": {
      "text/html": [
       "<div>\n",
       "<style scoped>\n",
       "    .dataframe tbody tr th:only-of-type {\n",
       "        vertical-align: middle;\n",
       "    }\n",
       "\n",
       "    .dataframe tbody tr th {\n",
       "        vertical-align: top;\n",
       "    }\n",
       "\n",
       "    .dataframe thead th {\n",
       "        text-align: right;\n",
       "    }\n",
       "</style>\n",
       "<table border=\"1\" class=\"dataframe\">\n",
       "  <thead>\n",
       "    <tr style=\"text-align: right;\">\n",
       "      <th></th>\n",
       "      <th>chb</th>\n",
       "      <th>sys_numb</th>\n",
       "      <th>date_1</th>\n",
       "      <th>is_real</th>\n",
       "      <th>type</th>\n",
       "      <th>source</th>\n",
       "      <th>is_printed</th>\n",
       "      <th>time_inv_rank</th>\n",
       "    </tr>\n",
       "  </thead>\n",
       "  <tbody>\n",
       "    <tr>\n",
       "      <th>0</th>\n",
       "      <td>100000641403</td>\n",
       "      <td>RSL01004206702</td>\n",
       "      <td>2021-02-21</td>\n",
       "      <td>yes</td>\n",
       "      <td>скачивание</td>\n",
       "      <td>dlib.rsl.ru</td>\n",
       "      <td>False</td>\n",
       "      <td>2.000</td>\n",
       "    </tr>\n",
       "    <tr>\n",
       "      <th>2</th>\n",
       "      <td>100000641403</td>\n",
       "      <td>RSL01004211574</td>\n",
       "      <td>2021-02-21</td>\n",
       "      <td>yes</td>\n",
       "      <td>скачивание</td>\n",
       "      <td>dlib.rsl.ru</td>\n",
       "      <td>False</td>\n",
       "      <td>3.000</td>\n",
       "    </tr>\n",
       "  </tbody>\n",
       "</table>\n",
       "</div>"
      ],
      "text/plain": [
       "            chb        sys_numb     date_1 is_real        type       source  \\\n",
       "0  100000641403  RSL01004206702 2021-02-21     yes  скачивание  dlib.rsl.ru   \n",
       "2  100000641403  RSL01004211574 2021-02-21     yes  скачивание  dlib.rsl.ru   \n",
       "\n",
       "   is_printed  time_inv_rank  \n",
       "0       False          2.000  \n",
       "2       False          3.000  "
      ]
     },
     "execution_count": 66,
     "metadata": {},
     "output_type": "execute_result"
    }
   ],
   "source": [
    "df[:2]"
   ]
  },
  {
   "cell_type": "code",
   "execution_count": 71,
   "metadata": {},
   "outputs": [
    {
     "data": {
      "text/html": [
       "<div>\n",
       "<style scoped>\n",
       "    .dataframe tbody tr th:only-of-type {\n",
       "        vertical-align: middle;\n",
       "    }\n",
       "\n",
       "    .dataframe tbody tr th {\n",
       "        vertical-align: top;\n",
       "    }\n",
       "\n",
       "    .dataframe thead th {\n",
       "        text-align: right;\n",
       "    }\n",
       "</style>\n",
       "<table border=\"1\" class=\"dataframe\">\n",
       "  <thead>\n",
       "    <tr style=\"text-align: right;\">\n",
       "      <th></th>\n",
       "      <th>chb</th>\n",
       "      <th>sys_numb</th>\n",
       "      <th>date_1</th>\n",
       "      <th>is_real</th>\n",
       "      <th>type</th>\n",
       "      <th>source</th>\n",
       "      <th>is_printed</th>\n",
       "      <th>time_inv_rank</th>\n",
       "      <th>timestamp</th>\n",
       "    </tr>\n",
       "  </thead>\n",
       "  <tbody>\n",
       "    <tr>\n",
       "      <th>0</th>\n",
       "      <td>100000641403</td>\n",
       "      <td>RSL01004206702</td>\n",
       "      <td>2021-02-21</td>\n",
       "      <td>yes</td>\n",
       "      <td>скачивание</td>\n",
       "      <td>dlib.rsl.ru</td>\n",
       "      <td>False</td>\n",
       "      <td>2.000</td>\n",
       "      <td>1613865600</td>\n",
       "    </tr>\n",
       "    <tr>\n",
       "      <th>2</th>\n",
       "      <td>100000641403</td>\n",
       "      <td>RSL01004211574</td>\n",
       "      <td>2021-02-21</td>\n",
       "      <td>yes</td>\n",
       "      <td>скачивание</td>\n",
       "      <td>dlib.rsl.ru</td>\n",
       "      <td>False</td>\n",
       "      <td>3.000</td>\n",
       "      <td>1613865600</td>\n",
       "    </tr>\n",
       "  </tbody>\n",
       "</table>\n",
       "</div>"
      ],
      "text/plain": [
       "            chb        sys_numb     date_1 is_real        type       source  \\\n",
       "0  100000641403  RSL01004206702 2021-02-21     yes  скачивание  dlib.rsl.ru   \n",
       "2  100000641403  RSL01004211574 2021-02-21     yes  скачивание  dlib.rsl.ru   \n",
       "\n",
       "   is_printed  time_inv_rank   timestamp  \n",
       "0       False          2.000  1613865600  \n",
       "2       False          3.000  1613865600  "
      ]
     },
     "execution_count": 71,
     "metadata": {},
     "output_type": "execute_result"
    }
   ],
   "source": [
    "df['timestamp']=df['date_1'].astype(np.int64) // 10 ** 9\n",
    "df[:2]"
   ]
  },
  {
   "cell_type": "code",
   "execution_count": 72,
   "metadata": {},
   "outputs": [
    {
     "data": {
      "text/html": [
       "<div>\n",
       "<style scoped>\n",
       "    .dataframe tbody tr th:only-of-type {\n",
       "        vertical-align: middle;\n",
       "    }\n",
       "\n",
       "    .dataframe tbody tr th {\n",
       "        vertical-align: top;\n",
       "    }\n",
       "\n",
       "    .dataframe thead th {\n",
       "        text-align: right;\n",
       "    }\n",
       "</style>\n",
       "<table border=\"1\" class=\"dataframe\">\n",
       "  <thead>\n",
       "    <tr style=\"text-align: right;\">\n",
       "      <th></th>\n",
       "      <th>user_id:token</th>\n",
       "      <th>item_id:token</th>\n",
       "      <th>is_printed:token</th>\n",
       "      <th>timestamp:float</th>\n",
       "    </tr>\n",
       "  </thead>\n",
       "  <tbody>\n",
       "    <tr>\n",
       "      <th>0</th>\n",
       "      <td>100000641403</td>\n",
       "      <td>RSL01004206702</td>\n",
       "      <td>False</td>\n",
       "      <td>1613865600</td>\n",
       "    </tr>\n",
       "    <tr>\n",
       "      <th>2</th>\n",
       "      <td>100000641403</td>\n",
       "      <td>RSL01004211574</td>\n",
       "      <td>False</td>\n",
       "      <td>1613865600</td>\n",
       "    </tr>\n",
       "  </tbody>\n",
       "</table>\n",
       "</div>"
      ],
      "text/plain": [
       "   user_id:token   item_id:token  is_printed:token  timestamp:float\n",
       "0   100000641403  RSL01004206702             False       1613865600\n",
       "2   100000641403  RSL01004211574             False       1613865600"
      ]
     },
     "execution_count": 72,
     "metadata": {},
     "output_type": "execute_result"
    }
   ],
   "source": [
    "df = df[['chb','sys_numb','is_printed','timestamp']]\n",
    "df.columns = ['user_id:token','item_id:token','is_printed:token','timestamp:float']\n",
    "df.to_csv(dir_data+'bib.inter', index=False, sep='\\t')\n",
    "df[:2]"
   ]
  },
  {
   "cell_type": "code",
   "execution_count": null,
   "metadata": {},
   "outputs": [],
   "source": []
  },
  {
   "cell_type": "code",
   "execution_count": null,
   "metadata": {},
   "outputs": [],
   "source": []
  }
 ],
 "metadata": {
  "kernelspec": {
   "display_name": "Python 3.8.12 ('nlp_env')",
   "language": "python",
   "name": "python3"
  },
  "language_info": {
   "codemirror_mode": {
    "name": "ipython",
    "version": 3
   },
   "file_extension": ".py",
   "mimetype": "text/x-python",
   "name": "python",
   "nbconvert_exporter": "python",
   "pygments_lexer": "ipython3",
   "version": "3.8.12"
  },
  "orig_nbformat": 4,
  "vscode": {
   "interpreter": {
    "hash": "493ec5a1ab30b110d8b115a6b4f8dce660b031311c57e6c3d9fb645ae4d2933e"
   }
  }
 },
 "nbformat": 4,
 "nbformat_minor": 2
}

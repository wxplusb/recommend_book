{
 "cells": [
  {
   "cell_type": "code",
   "execution_count": 1,
   "metadata": {},
   "outputs": [
    {
     "name": "stdout",
     "output_type": "stream",
     "text": [
      "INFO: Pandarallel will run on 10 workers.\n",
      "INFO: Pandarallel will use Memory file system to transfer data between the main process and workers.\n"
     ]
    }
   ],
   "source": [
    "%load_ext autoreload\n",
    "%autoreload 1\n",
    "%aimport my\n",
    "\n",
    "import sys\n",
    "import numpy as np\n",
    "import pandas as pd\n",
    "import os\n",
    "import gc\n",
    "import matplotlib.pyplot as plt\n",
    "import seaborn as sns\n",
    "import importlib\n",
    "import pickle\n",
    "\n",
    "import my\n",
    "from my import p\n",
    "\n",
    "pd.set_option('display.max_rows', 200)\n",
    "pd.set_option(\"max_colwidth\", 45)\n",
    "pd.set_option(\"display.precision\", 1)\n",
    "pd.options.display.float_format = \"{:.3f}\".format\n",
    "# pd.set_option(\"display.max_rows\", 5)\n",
    "# pd.reset_option(\"display.max_rows\")\n",
    "\n",
    "from sklearn.model_selection import train_test_split\n",
    "from sklearn.metrics import f1_score, precision_score, recall_score\n",
    "\n",
    "from pandarallel import pandarallel\n",
    "pandarallel.initialize(progress_bar=True)\n",
    "     \n",
    " # номер или название эксперимента\n",
    "# n_exp = '1/'\n",
    "dir_out = \"out/\"\n",
    "dir_data = 'data/'\n",
    "my.dir_data = dir_data\n",
    "os.makedirs(dir_out, exist_ok = True)\n",
    "\n",
    "RANDOM_STATE = 34\n",
    "np.random.seed(RANDOM_STATE)\n",
    "N_CPU = os.cpu_count()"
   ]
  },
  {
   "cell_type": "code",
   "execution_count": 2,
   "metadata": {},
   "outputs": [
    {
     "data": {
      "text/html": [
       "<div>\n",
       "<style scoped>\n",
       "    .dataframe tbody tr th:only-of-type {\n",
       "        vertical-align: middle;\n",
       "    }\n",
       "\n",
       "    .dataframe tbody tr th {\n",
       "        vertical-align: top;\n",
       "    }\n",
       "\n",
       "    .dataframe thead th {\n",
       "        text-align: right;\n",
       "    }\n",
       "</style>\n",
       "<table border=\"1\" class=\"dataframe\">\n",
       "  <thead>\n",
       "    <tr style=\"text-align: right;\">\n",
       "      <th></th>\n",
       "      <th>item_id:token</th>\n",
       "      <th>ff_year_izd:token</th>\n",
       "      <th>ff_author:token</th>\n",
       "      <th>ff_izd:token</th>\n",
       "      <th>lang:token</th>\n",
       "      <th>clean_lemma_title:token_seq</th>\n",
       "    </tr>\n",
       "  </thead>\n",
       "  <tbody>\n",
       "    <tr>\n",
       "      <th>0</th>\n",
       "      <td>RSL01008600016</td>\n",
       "      <td>f1:2015</td>\n",
       "      <td>f2:av_</td>\n",
       "      <td>f3:izd4</td>\n",
       "      <td>f4:ru</td>\n",
       "      <td>судебный следствие уголовный процесс росс...</td>\n",
       "    </tr>\n",
       "    <tr>\n",
       "      <th>1</th>\n",
       "      <td>RSL01004304880</td>\n",
       "      <td>f1:2005</td>\n",
       "      <td>f2:av_</td>\n",
       "      <td>f3:izd0</td>\n",
       "      <td>f4:ru</td>\n",
       "      <td>уральский казачество его роль система рос...</td>\n",
       "    </tr>\n",
       "    <tr>\n",
       "      <th>2</th>\n",
       "      <td>RSL07000461043</td>\n",
       "      <td>f1:2015</td>\n",
       "      <td>f2:av0</td>\n",
       "      <td>f3:izd0</td>\n",
       "      <td>f4:no</td>\n",
       "      <td>notitle</td>\n",
       "    </tr>\n",
       "  </tbody>\n",
       "</table>\n",
       "</div>"
      ],
      "text/plain": [
       "    item_id:token ff_year_izd:token ff_author:token ff_izd:token lang:token  \\\n",
       "0  RSL01008600016           f1:2015          f2:av_      f3:izd4      f4:ru   \n",
       "1  RSL01004304880           f1:2005          f2:av_      f3:izd0      f4:ru   \n",
       "2  RSL07000461043           f1:2015          f2:av0      f3:izd0      f4:no   \n",
       "\n",
       "                    clean_lemma_title:token_seq  \n",
       "0  судебный следствие уголовный процесс росс...  \n",
       "1  уральский казачество его роль система рос...  \n",
       "2                                       notitle  "
      ]
     },
     "execution_count": 2,
     "metadata": {},
     "output_type": "execute_result"
    }
   ],
   "source": [
    "it = pd.read_csv(dir_data + 'bib.item', sep='\\t')\n",
    "it['lang:token'] = 'f4:' + it['lang:token']\n",
    "it[:3]"
   ]
  },
  {
   "cell_type": "code",
   "execution_count": 3,
   "metadata": {},
   "outputs": [
    {
     "data": {
      "text/plain": [
       "(419,\n",
       " array(['f1:2015', 'f1:2005', 'f1:1995', 'f1:1970', 'f1:1900', 'f1:1945',\n",
       "        'f1:1800', 'f2:av_', 'f2:av0', 'f2:av1'], dtype=object))"
      ]
     },
     "execution_count": 3,
     "metadata": {},
     "output_type": "execute_result"
    }
   ],
   "source": [
    "uniq_it_features = np.concatenate([it['ff_year_izd:token'].unique(),it['ff_author:token'].unique(),it['ff_izd:token'].unique(),it['lang:token'].unique()])\n",
    "len(uniq_it_features),uniq_it_features[:10]"
   ]
  },
  {
   "cell_type": "code",
   "execution_count": 4,
   "metadata": {},
   "outputs": [
    {
     "data": {
      "text/html": [
       "<div>\n",
       "<style scoped>\n",
       "    .dataframe tbody tr th:only-of-type {\n",
       "        vertical-align: middle;\n",
       "    }\n",
       "\n",
       "    .dataframe tbody tr th {\n",
       "        vertical-align: top;\n",
       "    }\n",
       "\n",
       "    .dataframe thead th {\n",
       "        text-align: right;\n",
       "    }\n",
       "</style>\n",
       "<table border=\"1\" class=\"dataframe\">\n",
       "  <thead>\n",
       "    <tr style=\"text-align: right;\">\n",
       "      <th></th>\n",
       "      <th>user_id:token</th>\n",
       "      <th>ff_age:token</th>\n",
       "      <th>ff_gender:token</th>\n",
       "      <th>ff_chit_type:token</th>\n",
       "      <th>ff_read_counts:token</th>\n",
       "    </tr>\n",
       "  </thead>\n",
       "  <tbody>\n",
       "    <tr>\n",
       "      <th>0</th>\n",
       "      <td>300001020830</td>\n",
       "      <td>f1:17</td>\n",
       "      <td>f2:f</td>\n",
       "      <td>f3:no</td>\n",
       "      <td>f4:20</td>\n",
       "    </tr>\n",
       "    <tr>\n",
       "      <th>1</th>\n",
       "      <td>300001113642</td>\n",
       "      <td>f1:30</td>\n",
       "      <td>f2:f</td>\n",
       "      <td>f3:no</td>\n",
       "      <td>f4:20</td>\n",
       "    </tr>\n",
       "    <tr>\n",
       "      <th>2</th>\n",
       "      <td>300001148466</td>\n",
       "      <td>f1:40</td>\n",
       "      <td>f2:f</td>\n",
       "      <td>f3:no</td>\n",
       "      <td>f4:20</td>\n",
       "    </tr>\n",
       "  </tbody>\n",
       "</table>\n",
       "</div>"
      ],
      "text/plain": [
       "   user_id:token ff_age:token ff_gender:token ff_chit_type:token  \\\n",
       "0   300001020830        f1:17            f2:f              f3:no   \n",
       "1   300001113642        f1:30            f2:f              f3:no   \n",
       "2   300001148466        f1:40            f2:f              f3:no   \n",
       "\n",
       "  ff_read_counts:token  \n",
       "0                f4:20  \n",
       "1                f4:20  \n",
       "2                f4:20  "
      ]
     },
     "execution_count": 4,
     "metadata": {},
     "output_type": "execute_result"
    }
   ],
   "source": [
    "us = pd.read_csv(dir_data + 'bib.user', sep='\\t')\n",
    "us['ff_read_counts:token'] = 'f4:' + us['ff_read_counts:token'].astype(str)\n",
    "us[:3]"
   ]
  },
  {
   "cell_type": "code",
   "execution_count": 5,
   "metadata": {},
   "outputs": [
    {
     "data": {
      "text/plain": [
       "(15,\n",
       " array(['f1:17', 'f1:30', 'f1:40', 'f1:22', 'f1:60', 'f1:14', 'f2:f',\n",
       "        'f2:m', 'f3:no', 'f3:echb', 'f3:normal', 'f4:20', 'f4:3', 'f4:7',\n",
       "        'f4:50'], dtype=object))"
      ]
     },
     "execution_count": 5,
     "metadata": {},
     "output_type": "execute_result"
    }
   ],
   "source": [
    "uniq_user_features = np.concatenate([us['ff_age:token'].unique(),us['ff_gender:token'].unique(),us['ff_chit_type:token'].unique(),us['ff_read_counts:token'].unique()])\n",
    "len(uniq_user_features),uniq_user_features"
   ]
  },
  {
   "cell_type": "code",
   "execution_count": 6,
   "metadata": {},
   "outputs": [
    {
     "data": {
      "text/html": [
       "<div>\n",
       "<style scoped>\n",
       "    .dataframe tbody tr th:only-of-type {\n",
       "        vertical-align: middle;\n",
       "    }\n",
       "\n",
       "    .dataframe tbody tr th {\n",
       "        vertical-align: top;\n",
       "    }\n",
       "\n",
       "    .dataframe thead th {\n",
       "        text-align: right;\n",
       "    }\n",
       "</style>\n",
       "<table border=\"1\" class=\"dataframe\">\n",
       "  <thead>\n",
       "    <tr style=\"text-align: right;\">\n",
       "      <th></th>\n",
       "      <th>user_id:token</th>\n",
       "      <th>item_id:token</th>\n",
       "      <th>is_printed:token</th>\n",
       "      <th>timestamp:float</th>\n",
       "    </tr>\n",
       "  </thead>\n",
       "  <tbody>\n",
       "    <tr>\n",
       "      <th>0</th>\n",
       "      <td>100000641403</td>\n",
       "      <td>RSL01004206702</td>\n",
       "      <td>False</td>\n",
       "      <td>1613865600</td>\n",
       "    </tr>\n",
       "    <tr>\n",
       "      <th>1</th>\n",
       "      <td>100000641403</td>\n",
       "      <td>RSL01004211574</td>\n",
       "      <td>False</td>\n",
       "      <td>1613865600</td>\n",
       "    </tr>\n",
       "    <tr>\n",
       "      <th>2</th>\n",
       "      <td>100000641403</td>\n",
       "      <td>RSL01000769304</td>\n",
       "      <td>False</td>\n",
       "      <td>1616457600</td>\n",
       "    </tr>\n",
       "  </tbody>\n",
       "</table>\n",
       "</div>"
      ],
      "text/plain": [
       "   user_id:token   item_id:token  is_printed:token  timestamp:float\n",
       "0   100000641403  RSL01004206702             False       1613865600\n",
       "1   100000641403  RSL01004211574             False       1613865600\n",
       "2   100000641403  RSL01000769304             False       1616457600"
      ]
     },
     "execution_count": 6,
     "metadata": {},
     "output_type": "execute_result"
    }
   ],
   "source": [
    "df = pd.read_csv(dir_data + 'bib.inter', sep='\\t')\n",
    "df[:3]"
   ]
  },
  {
   "cell_type": "code",
   "execution_count": 7,
   "metadata": {},
   "outputs": [
    {
     "data": {
      "text/plain": [
       "[16753, 16768, 341312, 341731]"
      ]
     },
     "execution_count": 7,
     "metadata": {},
     "output_type": "execute_result"
    }
   ],
   "source": [
    "from lightfm import LightFM\n",
    "from lightfm.data import Dataset\n",
    "\n",
    "dataset = Dataset()\n",
    "dataset.fit(\n",
    "        us['user_id:token'].unique(), # all the users\n",
    "        it['item_id:token'].unique(), # all the items\n",
    "        user_features = uniq_user_features,\n",
    "        item_features = uniq_it_features\n",
    ")\n",
    "\n",
    "# (user id map, user feature map, item id map, item feature map)\n",
    "lfm_map = dataset.mapping()\n",
    "\n",
    "# len(lfm_map[0]),len(lfm_map[1]),len(lfm_map[])\n",
    "list(map(len,lfm_map))"
   ]
  },
  {
   "cell_type": "code",
   "execution_count": 8,
   "metadata": {},
   "outputs": [],
   "source": [
    "lfm_map = {\n",
    "    'u_to_ids': lfm_map[0],\n",
    "    'i_to_ids': lfm_map[2],\n",
    "}\n",
    "\n",
    "lfm_map['ids_to_u'] = {v: k for k, v in lfm_map['u_to_ids'].items()}\n",
    "lfm_map['ids_to_i'] = {v: k for k, v in lfm_map['i_to_ids'].items()}"
   ]
  },
  {
   "cell_type": "code",
   "execution_count": 9,
   "metadata": {},
   "outputs": [
    {
     "data": {
      "text/plain": [
       "<16753x16768 sparse matrix of type '<class 'numpy.float32'>'\n",
       "\twith 83765 stored elements in Compressed Sparse Row format>"
      ]
     },
     "execution_count": 9,
     "metadata": {},
     "output_type": "execute_result"
    }
   ],
   "source": [
    "gen_us_feats = us.itertuples()\n",
    "\n",
    "user_feats = dataset.build_user_features(\n",
    "    (t[1],t[2:]) for t in gen_us_feats\n",
    ")\n",
    "\n",
    "user_feats"
   ]
  },
  {
   "cell_type": "code",
   "execution_count": 10,
   "metadata": {},
   "outputs": [
    {
     "data": {
      "text/plain": [
       "<341312x341731 sparse matrix of type '<class 'numpy.float32'>'\n",
       "\twith 1706560 stored elements in Compressed Sparse Row format>"
      ]
     },
     "execution_count": 10,
     "metadata": {},
     "output_type": "execute_result"
    }
   ],
   "source": [
    "gen_it_feats = it.iloc[:,:5].itertuples()\n",
    "\n",
    "it_feats = dataset.build_item_features(\n",
    "    (t[1],t[2:]) for t in gen_it_feats\n",
    ")\n",
    "\n",
    "it_feats"
   ]
  },
  {
   "cell_type": "code",
   "execution_count": null,
   "metadata": {},
   "outputs": [],
   "source": [
    "from sklearn.feature_extraction.text import CountVectorizer\n",
    "\n",
    "vec = CountVectorizer(max_df=0.01,min_df=10,dtype=np.float32,max_features=10000,lowercase=False)\n",
    "\n",
    "it_text_feats = vec.fit_transform(it['clean_lemma_title:token_seq'])\n",
    "p(vec.get_feature_names_out()[:20], len(vec.vocabulary_))\n",
    "\n",
    "it_text_feats"
   ]
  },
  {
   "cell_type": "code",
   "execution_count": 12,
   "metadata": {},
   "outputs": [
    {
     "data": {
      "text/plain": [
       "0"
      ]
     },
     "execution_count": 12,
     "metadata": {},
     "output_type": "execute_result"
    }
   ],
   "source": [
    "from scipy.sparse import hstack\n",
    "\n",
    "it_feats = hstack([it_feats, it_text_feats])\n",
    "del it_text_feats\n",
    "gc.collect()"
   ]
  },
  {
   "cell_type": "code",
   "execution_count": 13,
   "metadata": {},
   "outputs": [],
   "source": [
    "full_int_mat, _ = dataset.build_interactions(\n",
    "    df[['user_id:token','item_id:token']].to_numpy()\n",
    ")"
   ]
  },
  {
   "cell_type": "code",
   "execution_count": 14,
   "metadata": {},
   "outputs": [
    {
     "name": "stderr",
     "output_type": "stream",
     "text": [
      "Epoch: 100%|██████████| 60/60 [11:06<00:00, 11.12s/it]\n"
     ]
    },
    {
     "name": "stdout",
     "output_type": "stream",
     "text": [
      "save:  data/lfm_11_09_1701.pl\n"
     ]
    }
   ],
   "source": [
    "from datetime import datetime\n",
    "\n",
    "FULL_N_EPOCHS = 60\n",
    "\n",
    "params = {\n",
    "        \"no_components\": 1000,\n",
    "        \"loss\": \"warp\",\n",
    "        \"max_sampled\": 100,\n",
    "        \"learning_rate\": 0.1,\n",
    "        \"random_state\":RANDOM_STATE\n",
    "    }\n",
    "\n",
    "# regularisation for both user and item features\n",
    "# ITEM_ALPHA = 1e-6\n",
    "# USER_ALPHA = 1e-6\n",
    "\n",
    "lf = LightFM(**params)\n",
    "\n",
    "lf.fit(full_int_mat, user_features=user_feats, item_features=it_feats, epochs=FULL_N_EPOCHS,num_threads=N_CPU,verbose=True)\n",
    "\n",
    "current_time = datetime.now().strftime(\"%d_%m_%H%M\")\n",
    "my.save_pickle(dir_data+f'lfm_{current_time}.pl',lf, True)"
   ]
  },
  {
   "cell_type": "code",
   "execution_count": 15,
   "metadata": {},
   "outputs": [],
   "source": [
    "df1 = df[['user_id:token',\t'item_id:token']].copy()\n",
    "df1.columns = ['chb','sys_numb']"
   ]
  },
  {
   "cell_type": "code",
   "execution_count": 16,
   "metadata": {},
   "outputs": [
    {
     "data": {
      "application/vnd.jupyter.widget-view+json": {
       "model_id": "896a607201f14dc786854938c99ad041",
       "version_major": 2,
       "version_minor": 0
      },
      "text/plain": [
       "  0%|          | 0/16753 [00:00<?, ?it/s]"
      ]
     },
     "metadata": {},
     "output_type": "display_data"
    }
   ],
   "source": [
    "preds = my.recommend(lf, df1, lfm_map, user_feats, it_feats, top_N=20)\n",
    "preds.to_csv(dir_out+'sub21.csv',sep=';',index=False)"
   ]
  }
 ],
 "metadata": {
  "kernelspec": {
   "display_name": "Python 3.8.12 ('recsys_env')",
   "language": "python",
   "name": "python3"
  },
  "language_info": {
   "codemirror_mode": {
    "name": "ipython",
    "version": 3
   },
   "file_extension": ".py",
   "mimetype": "text/x-python",
   "name": "python",
   "nbconvert_exporter": "python",
   "pygments_lexer": "ipython3",
   "version": "3.8.12"
  },
  "orig_nbformat": 4,
  "vscode": {
   "interpreter": {
    "hash": "bfdb1cde9656b9ceb65c948db8ab79d2498adee096447bac3e6215ca54e80695"
   }
  }
 },
 "nbformat": 4,
 "nbformat_minor": 2
}
